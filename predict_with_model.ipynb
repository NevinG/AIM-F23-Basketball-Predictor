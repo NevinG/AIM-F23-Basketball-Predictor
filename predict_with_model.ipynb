{
 "cells": [
  {
   "cell_type": "code",
   "execution_count": 109,
   "metadata": {},
   "outputs": [
    {
     "name": "stdout",
     "output_type": "stream",
     "text": [
      "We predict the home team LAL WINS with an probability of 0.74\n"
     ]
    }
   ],
   "source": [
    "import pickle\n",
    "import pandas as pd\n",
    "model_file = './models/naive_bayes.sav'\n",
    "\n",
    "# load the model from disk\n",
    "model = pickle.load(open(model_file, 'rb'))\n",
    "\n",
    "# get current team data\n",
    "home_team = 'LAL'\n",
    "away_team = 'DAL'\n",
    "\n",
    "df =  pd.read_csv('./data/current_team_data.csv')\n",
    "df = df.drop(df.columns[[0]],axis = 1)\n",
    "\n",
    "home = df.loc[df['Team'] == home_team].iloc[0,1:]\n",
    "home.index = list(map(lambda n: \"home_\" + n, home.index.to_list()))\n",
    "\n",
    "away = df.loc[df['Team'] == away_team].iloc[0,1:]\n",
    "\n",
    "away.index = list(map(lambda n: \"away_\" + n, away.index.to_list()))\n",
    "X = pd.concat([home, away])\n",
    "X = X.to_frame().T\n",
    "\n",
    "#put data in form for model\n",
    "y_pred = model.predict(X)[0]\n",
    "y_pred_prob = model.predict_proba(X)[0][1 if y_pred else 0]\n",
    "print(\"We predict the home team \" + home_team + str(\" WINS\" if y_pred else \" LOSES\") + \" with an probability of \" + str(round(y_pred_prob, 2)))"
   ]
  }
 ],
 "metadata": {
  "kernelspec": {
   "display_name": "Python 3",
   "language": "python",
   "name": "python3"
  },
  "language_info": {
   "codemirror_mode": {
    "name": "ipython",
    "version": 3
   },
   "file_extension": ".py",
   "mimetype": "text/x-python",
   "name": "python",
   "nbconvert_exporter": "python",
   "pygments_lexer": "ipython3",
   "version": "3.10.7"
  }
 },
 "nbformat": 4,
 "nbformat_minor": 2
}
